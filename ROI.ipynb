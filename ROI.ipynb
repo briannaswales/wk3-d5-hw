{
 "metadata": {
  "language_info": {
   "codemirror_mode": {
    "name": "ipython",
    "version": 3
   },
   "file_extension": ".py",
   "mimetype": "text/x-python",
   "name": "python",
   "nbconvert_exporter": "python",
   "pygments_lexer": "ipython3",
   "version": "3.8.5"
  },
  "orig_nbformat": 2,
  "kernelspec": {
   "name": "python3",
   "display_name": "Python 3.8.5 64-bit ('base': conda)",
   "metadata": {
    "interpreter": {
     "hash": "dca0ade3e726a953b501b15e8e990130d2b7799f14cfd9f4271676035ebe5511"
    }
   }
  }
 },
 "nbformat": 4,
 "nbformat_minor": 2,
 "cells": [
  {
   "cell_type": "code",
   "execution_count": 149,
   "metadata": {},
   "outputs": [],
   "source": [
    "class ROI():\n",
    "    \n",
    "    def __init__(self):\n",
    "        pass\n",
    "        # self.income_total = []\n",
    "        # self.expenses_total = []\n",
    "        # self.investment_total = []\n",
    "\n",
    "\n",
    "    def income(self):\n",
    "        \n",
    "        self.rent = input(\"How much will you charge your tenant(s) a month?: \")\n",
    "        self.misc = input(\"How much are you expecting in miscellaneus income per month?: \")\n",
    "        \n",
    "        return int(self.rent) + int(self.misc)\n",
    "\n",
    "    def expenses(self):\n",
    "        \n",
    "        self.taxes = input(\"Approximately how much are expected to pay in taxes a year?: \")\n",
    "        self.ins = input(\"How much is your annual insurance policy for the property?: \")\n",
    "        self.util = input(\"How much of the utilities are you responsible for?: \")\n",
    "        self.maint = input(\"What are your maintenance costs per month?: \")\n",
    "        self.vac = input(\"How much will you set aside for vacany a month?: \")\n",
    "        self.mortgage = input(\"What is your mortgage payment per month?: \")\n",
    "        self.mgmt = input(\"If you're using a property management company, how much will that cost you per month?: \")\n",
    "        self.other = input(\"Enter any other monthly expense(s) not listed: \")\n",
    "\n",
    "        return int((self.taxes) // 12) + int(self.ins) + int(self.util) + int(self.maint) + int(self.vac) + int(self.mortgage) + int(self.mgmt) + int(self.other)\n",
    "\n",
    "\n",
    "    def investment(self):\n",
    "        \n",
    "        self.down = input(\"Expected amount to put towards a downpayment?: \")\n",
    "        self.closing = input(\"How much in closing costs?: \")\n",
    "        self.rehab = input(\"What is your rehab budget?: \")\n",
    "        self.misc = input(\"Miscellaneous Costs: \")\n",
    "        \n",
    "        total_investment = int(self.down) + int(self.closing) + int(self.rehab) + int(self.misc)\n",
    "        \n",
    "        return total_investment\n",
    "\n",
    "\n",
    "class Main():\n",
    "\n",
    "    landlord = ROI()\n",
    "\n",
    "    def user_input():\n",
    "        ROI.income(landlord)\n",
    "        ROI.expenses(landlord)\n",
    "        ROI.investment(landlord)\n",
    "\n",
    "        def cash_flow():\n",
    "            # cashflow = income - investment\n",
    "            cashflow = ROI.income(landlord) - ROI.expenses(landlord)\n",
    "            print(cashflow)\n",
    "            return cashflow\n",
    "\n",
    "\n",
    "        def cash_on_cash():\n",
    "            cash_roi = ((cashflow * 12) // ROI.investment(landlord)) * 100\n",
    "            print (f'this is your cash on cash roi{cash_roi}')\n",
    "            return cash_roi\n",
    "        \n",
    "\n",
    "\n",
    "landlord = Main()\n",
    "# landlord.income()\n",
    "Main.user_input()"
   ]
  },
  {
   "cell_type": "code",
   "execution_count": null,
   "metadata": {},
   "outputs": [],
   "source": []
  }
 ]
}